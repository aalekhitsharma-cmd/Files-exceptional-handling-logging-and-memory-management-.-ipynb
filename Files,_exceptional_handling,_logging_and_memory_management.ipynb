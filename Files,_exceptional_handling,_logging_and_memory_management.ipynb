{
  "nbformat": 4,
  "nbformat_minor": 0,
  "metadata": {
    "colab": {
      "provenance": []
    },
    "kernelspec": {
      "name": "python3",
      "display_name": "Python 3"
    },
    "language_info": {
      "name": "python"
    }
  },
  "cells": [
    {
      "cell_type": "markdown",
      "source": [
        "**Files**, **exceptional** ***handling***,\n",
        "**logging** **and** **memory**\n",
        "**management**"
      ],
      "metadata": {
        "id": "janeMphbFEcb"
      }
    },
    {
      "cell_type": "markdown",
      "source": [
        "1. What is the difference between interpreted and compiled languages?\n",
        "\n",
        "   ->Compiled Languages:\n",
        "\n",
        "In compiled languages (e.g., C, C++), the entire source code is translated into machine-readable code (an executable file) by a program called a compiler before execution.\n",
        "This compilation process happens once. The resulting executable can then be run directly by the operating system without needing the original source code or the compiler.\n",
        "Advantages: Typically faster execution speeds because the translation is done upfront, and the processor directly executes machine code.\n",
        "Disadvantages: Requires a separate compilation step, which can add to development time, and platform-specific executables may need to be generated.\n",
        "\n",
        "Interpreted Languages:\n",
        "\n",
        "In interpreted languages (e.g., Python, JavaScript), a program called an interpreter reads and executes the source code line by line at runtime.\n",
        "There is no separate compilation step to create a standalone executable. The interpreter processes the code dynamically as it runs.\n",
        "Advantages: Greater flexibility and ease of development due to the immediate execution of code and ease of debugging. Platform independence is often a benefit, as long as an interpreter is available for the target platform.\n",
        "Disadvantages: Generally slower execution speeds compared to compiled languages because the interpretation process happens during runtime.\n",
        "Python's Nature:\n",
        "Python is often referred to as an interpreted language, but its execution model is more nuanced:\n",
        "Bytecode Compilation: When you run a Python script, the CPython interpreter (the most common Python implementation) first compiles the source code into an intermediate format called bytecode. This bytecode is stored in .pyc files.\n",
        "Interpretation: This bytecode is then executed by the Python Virtual Machine (PVM), which is part of the interpreter. The PVM translates and executes the bytecode instructions."
      ],
      "metadata": {
        "id": "26rfAKMCFUJK"
      }
    },
    {
      "cell_type": "markdown",
      "source": [
        "2.What is exception handling in Python?\n",
        "\n",
        "  ->Exception handling in Python is a mechanism used to manage runtime errors, known as exceptions, that disrupt the normal flow of a program. Instead of crashing abruptly, a program can gracefully handle these unexpected events, allowing for recovery or providing informative messages to the user."
      ],
      "metadata": {
        "id": "tDBxzNc3GHlj"
      }
    },
    {
      "cell_type": "markdown",
      "source": [
        "3. What is the purpose of the finally block in exception handling?\n",
        "\n",
        "   ->The primary purpose of a finally block is to execute crucial cleanup code that must run regardless of whether an exception occurs or not. It guarantees that operations like closing files, releasing database connections, or freeing other resources are performed, preventing issues such as memory leaks or resource starvation, even if an exception is thrown within the try block or caught by a catch block.\n",
        "When is the finally block executed?\n",
        "The code within the finally block is guaranteed to run in several scenarios:\n",
        "No exception is thrown: The try block executes successfully, the catch block is skipped, and then the finally block runs.\n",
        "An exception is thrown and caught: An exception occurs in the try block, is caught by a catch block, and then the finally block executes.\n",
        "An exception is thrown but not caught: If the catch block is missing or does not handle the specific exception, the finally block still executes before the program potentially terminates or the exception is propagated.\n",
        "A return statement or other control flow statement is in the try or catch block: Even if the try or catch block contains a return, break, or continue statement, the finally block will execute before the control flow actually leaves the block.\n",
        "Key Use Cases for finally:\n",
        "Resource Management: Closing file streams, network connections, database connections, and other I/O resources that need to be released to avoid memory leaks.\n",
        "State Restoration: Cleaning up temporary data structures or resetting program states to a known good condition.\n",
        "Ensuring Operations: Guaranteeing that critical tasks are performed, such as applying patches to data or performing essential logging, no matter the success or failure of the preceding code."
      ],
      "metadata": {
        "id": "CNpAFifBGbXs"
      }
    },
    {
      "cell_type": "markdown",
      "source": [
        "4. What is logging in Python?\n",
        "\n",
        "   ->Logging in Python is a mechanism for tracking events that occur while a program is running. It provides a structured and efficient way to record information about the application's execution, including errors, warnings, and other significant events. This information, known as logs, is crucial for debugging, monitoring performance, and understanding the application's behavior."
      ],
      "metadata": {
        "id": "Qxy84Lm3GxFY"
      }
    },
    {
      "cell_type": "markdown",
      "source": [
        "5. What is the significance of the __del__ method in Python?\n",
        "\n",
        "   ->The __del__ method in Python, often referred to as a destructor, holds significance primarily in resource management and cleanup when an object is about to be destroyed.\n",
        "Key aspects of its significance:\n",
        "Resource Cleanup: The __del__ method provides a mechanism to release or clean up resources held by an object before it is removed from memory. This is particularly relevant for external resources like open files, network connections, database connections, or locks that need to be explicitly closed or released to prevent resource leaks.\n",
        "Automatic Invocation: Unlike regular methods that require explicit calls, the __del__ method is automatically invoked by Python's garbage collector when an object's reference count drops to zero, or when the object is otherwise determined to be no longer reachable. This automates the cleanup process.\n",
        "Last Resort for Cleanup: While context managers (with statements) are generally preferred for managing resources that require explicit cleanup, __del__ can serve as a last resort in scenarios where context managers are not feasible or when an object might be implicitly garbage collected without a formal close() or release() call.\n",
        "Important Considerations:\n",
        "Timing Uncertainty: The exact timing of __del__ invocation is not guaranteed. It depends on the garbage collector's schedule, and in cases of circular references, objects might not be immediately collected, leading to delays in __del__ execution or even preventing it entirely until program termination.\n",
        "Avoid Critical Tasks: Due to the timing uncertainty and potential for silent failures (exceptions within __del__ are ignored), it is generally advised to avoid placing critical cleanup tasks within __del__.\n",
        "Context Managers Preferred: For predictable and robust resource management, Python's with statement and context managers are the recommended approach as they ensure resources are released reliably, even in the presence of exceptions."
      ],
      "metadata": {
        "id": "Gbl1J4_KHBS6"
      }
    },
    {
      "cell_type": "markdown",
      "source": [
        "6. What is the difference between import and from ... import in Python?\n",
        "\n",
        "   ->In Python, both import and from ... import statements are used to bring modules or specific components from modules into the current namespace, but they differ in how they achieve this:\n",
        "import module_name:\n",
        "This statement imports the entire module_name and makes it available as an object in the current namespace.\n",
        "To access any function, class, or variable within that module, you must prefix it with the module name and a dot (e.g., module_name.function()).\n",
        "This approach avoids naming conflicts if multiple modules contain elements with the same name, as each element is clearly associated with its originating module.\n",
        "Python\n",
        "\n",
        "    import math\n",
        "    result = math.sqrt(25)\n",
        "    print(result) # Output: 5.0\n",
        "from module_name import specific_item:\n",
        "This statement imports only the specific_item (e.g., a function, class, or variable) from module_name directly into the current namespace.\n",
        "You can then use the specific_item directly without needing to prefix it with the module name.\n",
        "This can lead to naming conflicts if you import items with the same name from different modules or if they conflict with existing names in your current script.\n",
        "Python\n",
        "\n",
        "    from math import sqrt\n",
        "    result = sqrt(25)\n",
        "    print(result) # Output: 5.0\n",
        "from module_name import *:\n",
        "This variation imports all public names (those not starting with an underscore) from module_name directly into the current namespace.\n",
        "While convenient for reducing typing, it is generally discouraged in larger projects due to the high potential for naming conflicts and reduced code readability, as it becomes less clear where functions or variables originated.\n",
        "In summary:\n",
        "import module_name is preferred for clarity and avoiding naming conflicts, especially in larger projects where you might use multiple elements from a module.\n",
        "from module_name import specific_item is useful when you only need a few specific items from a module and want to avoid repetitive typing of the module name.\n",
        "from module_name import * should be used with caution and primarily in small scripts or for specific, well-understood scenarios due to the risk of namespace pollution."
      ],
      "metadata": {
        "id": "Lgn37287HNNm"
      }
    },
    {
      "cell_type": "markdown",
      "source": [
        "7. How can you handle multiple exceptions in Python?\n",
        "\n",
        "   ->In Python, there are two primary ways to handle multiple exceptions within a try-except block:\n",
        "   1. Handling multiple exceptions with a single except block:\n",
        "This approach is suitable when you want to handle several different types of exceptions in the same way. You can list the exception types within a tuple after the except keyword.\n",
        "Python\n",
        "\n",
        "try:\n",
        "    # Code that might raise exceptions\n",
        "    result = 10 / 0  # Example: ZeroDivisionError\n",
        "    my_list = [1, 2]\n",
        "    print(my_list[3]) # Example: IndexError\n",
        "except (ZeroDivisionError, IndexError) as e:\n",
        "    print(f\"An error occurred: {e}\")\n",
        "    # Perform common error handling actions\n",
        "In this example, if either a ZeroDivisionError or an IndexError occurs in the try block, the code within the except block will be executed, and the specific exception object will be available through the variable e.\n",
        "  2. Handling multiple exceptions with separate except blocks:\n",
        "This method is used when you need to handle different types of exceptions in distinct ways. You can define multiple except blocks, each targeting a specific exception type.\n",
        "Python\n",
        "\n",
        "try:\n",
        "    # Code that might raise exceptions\n",
        "    value = int(\"abc\")  # Example: ValueError\n",
        "    file = open(\"nonexistent.txt\") # Example: FileNotFoundError\n",
        "except ValueError as e:\n",
        "    print(f\"Invalid input: {e}\")\n",
        "    # Specific handling for ValueError\n",
        "except FileNotFoundError as e:\n",
        "    print(f\"File not found: {e}\")\n",
        "    # Specific handling for FileNotFoundError\n",
        "except Exception as e: # Catch-all for other exceptions (handle with caution)\n",
        "    print(f\"An unexpected error occurred: {e}\")\n",
        "In this case, Python will attempt to match the raised exception with the except blocks in the order they are defined. The first except block that matches the exception type will be executed. It is generally recommended to place more specific exception types before more general ones (like Exception).\n",
        "Choosing the right method:\n",
        "Use a single except block with a tuple when the same error handling logic applies to multiple exception types.\n",
        "Use separate except blocks when different exception types require distinct handling strategies."
      ],
      "metadata": {
        "id": "ZKs2PN3WHeW1"
      }
    },
    {
      "cell_type": "markdown",
      "source": [
        "8. What is the purpose of the with statement when handling files in Python?\n",
        "\n",
        "   ->The with statement in Python, when used with file handling, serves the primary purpose of ensuring proper resource management and automatic cleanup.\n",
        "Specifically, its key benefits are:\n",
        "Automatic File Closing: The with statement guarantees that a file, once opened, will be automatically closed when the code block within the with statement is exited, regardless of whether the block completes successfully or an exception occurs. This eliminates the need for explicit file.close() calls, preventing potential resource leaks if closing is forgotten or an error prevents it.\n",
        "Simplified Code and Error Handling: It simplifies code by abstracting away the try...finally block that would otherwise be required to ensure file closure in the event of an exception. This leads to cleaner, more readable, and less error-prone code.\n",
        "In essence, the with statement acts as a context manager for file operations, ensuring that the file is opened, operations are performed, and then the file is reliably closed, even in the presence of errors.\n",
        "Example:\n",
        "Python\n",
        "\n",
        "# Without 'with' statement (requires explicit closing and error handling)\n",
        "file = open(\"my_file.txt\", \"w\")\n",
        "try:\n",
        "    file.write(\"Hello, World!\")\n",
        "except IOError as e:\n",
        "    print(f\"Error writing to file: {e}\")\n",
        "finally:\n",
        "    file.close()\n",
        "\n",
        "# With 'with' statement (automatic closing and cleaner code)\n",
        "with open(\"my_file.txt\", \"w\") as file:\n",
        "    file.write(\"Hello, World!\")\n",
        "# File is automatically closed here, even if an error occurred during write"
      ],
      "metadata": {
        "id": "5OVxqHc4IEgj"
      }
    },
    {
      "cell_type": "markdown",
      "source": [
        "9. What is the difference between multithreading and multiprocessing?\n",
        "\n",
        "   ->Multiprocessing runs independent processes on multiple CPUs for true parallelism, ideal for CPU-bound tasks, while multithreading runs multiple threads within a single process, sharing memory for better concurrency and throughput, suitable for I/O-bound tasks. The fundamental difference is that processes have separate memory spaces, making them isolated and robust, whereas threads share a process's memory, making them lightweight and efficient but potentially vulnerable to race conditions if not managed carefully.\n",
        "Here's a breakdown of the differences:\n",
        "Multiprocessing\n",
        "Definition: A programming paradigm that divides a task into multiple, independent processes, each with its own memory space.\n",
        "Execution: Achieves true parallelism by executing these separate processes on different CPU cores simultaneously.\n",
        "Memory: Each process has its own distinct memory, which provides isolation and prevents interference between processes.\n",
        "Communication: Requires Inter-Process Communication (IPC) mechanisms, which can be more complex and slower, to share data between processes.\n",
        "Pros: Offers better fault isolation (an error in one process doesn't affect others) and is excellent for CPU-bound tasks (tasks that require heavy processing).\n",
        "Cons: Heavier overhead in terms of memory and process creation time; more complex to set up and manage.\n",
        "Analogy: Imagine multiple chefs in a kitchen, each working on a completely different dish with their own set of ingredients and tools.\n",
        "Multithreading\n",
        "Definition: Divides a single process into multiple smaller threads, which are concurrent paths of execution within that process.\n",
        "Execution: Achieves concurrency by rapidly switching between threads on a single core or by running threads in parallel on multiple cores.\n",
        "Memory: All threads within a process share the same memory space, making them lightweight and fast to create.\n",
        "Communication: Threads can easily share data because they reside in the same memory space, simplifying communication.\n",
        "Pros: Lower overhead for thread creation and better performance for tasks that involve a lot of waiting, like I/O operations (e.g., reading from a disk or network).\n",
        "Cons: Less robust; an error or crash in one thread can affect the entire process, and managing concurrent access to shared memory requires careful synchronization to prevent race conditions.\n",
        "Analogy: Think of a chef preparing one complex pizza by working on the dough, then the sauce, then the toppings, all within the same kitchen space."
      ],
      "metadata": {
        "id": "q6v6hrUfIRgE"
      }
    },
    {
      "cell_type": "markdown",
      "source": [
        "10.  What are the advantages of using logging in a program?\n",
        "\n",
        "   ->Logging provides a comprehensive record of events occurring within a program, offering several advantages:\n",
        "Debugging and Troubleshooting: Logs serve as a historical record of program execution, allowing developers to trace the flow of control, variable values, and error messages. This is crucial for identifying the root cause of bugs, unexpected behavior, and performance issues, especially in production environments where direct debugging might not be feasible.\n",
        "Performance Monitoring: By logging key metrics and events, such as function execution times, resource utilization, and API call durations, developers can gain insights into application performance. This enables the identification of bottlenecks, slowdowns, and areas for optimization.\n",
        "Security and Auditing: Logging can be used to track security-sensitive events, such as user logins, access attempts, and data modifications. This provides an audit trail for compliance purposes and helps detect and investigate unauthorized access or suspicious activity.\n",
        "Understanding Application Behavior: Logs provide a detailed view of how an application operates under various conditions, including user interactions, external system integrations, and error handling. This information is valuable for understanding application behavior, making informed design decisions, and improving the user experience.\n",
        "Post-Mortem Analysis: In the event of a system crash or critical failure, logs are essential for conducting a post-mortem analysis. They provide the necessary context and data to understand what led to the failure, preventing recurrence.\n",
        "Business Intelligence: Beyond technical troubleshooting, logs can capture business-relevant events, such as customer purchases, feature usage, and user demographics. This data can be analyzed to gain insights into business performance, user engagement, and market trends."
      ],
      "metadata": {
        "id": "iPr4NtnUIlAI"
      }
    },
    {
      "cell_type": "markdown",
      "source": [
        "11. What is memory management in Python?\n",
        "\n",
        "  ->Memory management in Python refers to the automatic process of allocating and deallocating memory resources for Python objects during program execution. Unlike languages like C or C++ where memory management is largely manual, Python handles this automatically, freeing developers from explicitly managing memory."
      ],
      "metadata": {
        "id": "1zNivbIUIxDS"
      }
    },
    {
      "cell_type": "markdown",
      "source": [
        "12. What are the basic steps involved in exception handling in Python?\n",
        "\n",
        "   ->Exception handling in Python primarily involves the use of try, except, else, and finally blocks to manage potential errors and ensure program stability.\n",
        "1. The try Block:\n",
        "This block contains the code that is expected to potentially raise an exception.\n",
        "Python attempts to execute the code within this block. If an exception occurs, the execution of the try block is immediately halted, and control is passed to the appropriate except block.\n",
        "2. The except Block(s):\n",
        "Following the try block, one or more except blocks can be defined to handle specific types of exceptions.\n",
        "If an exception occurs in the try block, Python searches for an except block that matches the type of exception raised.\n",
        "The code within the matching except block is then executed, allowing for specific error handling logic (e.g., printing an error message, logging the error, or attempting a recovery action).\n",
        "A general except Exception as e: can be used to catch any exception not specifically handled by preceding except blocks.\n",
        "3. The else Block (Optional):\n",
        "This block is executed only if no exception occurs within the try block.\n",
        "It's useful for placing code that should run only when the try block completes successfully.\n",
        "4. The finally Block (Optional):\n",
        "This block always executes, regardless of whether an exception occurred in the try block or was handled by an except block.\n",
        "It's typically used for cleanup operations, such as closing files, releasing resources, or ensuring that certain actions are performed before exiting the try...except structure.\n",
        "Example:\n",
        "Python\n",
        "\n",
        "try:\n",
        "    # Code that might raise an exception\n",
        "    result = 10 / 0\n",
        "except ZeroDivisionError:\n",
        "    # Handle the specific ZeroDivisionError\n",
        "    print(\"Error: Cannot divide by zero!\")\n",
        "except ValueError:\n",
        "    # Handle another specific exception\n",
        "    print(\"Error: Invalid value encountered.\")\n",
        "else:\n",
        "    # Code to execute if no exception occurred in try\n",
        "    print(f\"Division successful. Result: {result}\")\n",
        "finally:\n",
        "    # Code that always runs (e.g., cleanup)\n",
        "    print(\"Execution of try-except block complete.\")"
      ],
      "metadata": {
        "id": "YLUvpLXfI_HN"
      }
    },
    {
      "cell_type": "markdown",
      "source": [
        "13.  Why is memory management important in Python?\n",
        "\n",
        "   ->Memory management is crucial in Python, despite its automated nature, for several reasons:\n",
        "Performance Optimization: Efficient memory management prevents excessive memory consumption, which can lead to slower program execution and increased resource usage. By understanding how Python allocates and deallocates memory, developers can write code that minimizes memory footprint and improves overall application performance.\n",
        "Preventing Memory Leaks: Improper memory handling can result in memory leaks, where memory is allocated but never released, even after it's no longer needed. This can lead to applications consuming more and more memory over time, eventually causing performance degradation or even crashes, especially in long-running applications or those handling large datasets.\n",
        "Resource Management: Computers have finite memory resources. Effective memory management ensures that programs use memory efficiently, releasing it when it's no longer required, making it available for other processes or applications. This is particularly important in environments with limited resources or when running multiple applications simultaneously.\n",
        "Understanding Program Behavior: Knowing how Python manages memory, including concepts like reference counting and garbage collection, provides insight into the underlying mechanisms of the language. This understanding helps in debugging memory-related issues, optimizing code for specific scenarios, and making informed decisions about data structures and algorithms.\n",
        "Handling Large Datasets: In applications dealing with large volumes of data, such as in data science or machine learning, efficient memory management becomes even more critical. Understanding how data types consume memory and how to optimize memory usage can be the difference between a functional and an unmanageable application."
      ],
      "metadata": {
        "id": "vgDvjrCuJVM4"
      }
    },
    {
      "cell_type": "markdown",
      "source": [
        "14.What is the role of try and except in exception handling?\n",
        "\n",
        "   ->The try and except blocks are fundamental components of exception handling in programming, particularly in languages like Python. Their primary role is to manage errors or \"exceptions\" that occur during program execution, preventing the program from crashing and allowing for a more graceful and robust handling of unexpected situations.\n",
        "Role of try:\n",
        "The try block encloses the section of code that is anticipated to potentially raise an exception.\n",
        "It acts as a \"testing ground\" where the program attempts to execute potentially problematic operations.\n",
        "If no exception occurs within the try block, the execution proceeds normally, and the except block is skipped.\n",
        "Role of except:\n",
        "The except block is executed only if an exception is raised within the corresponding try block.\n",
        "It serves as a mechanism to \"catch\" and handle specific types of exceptions or a general exception if no specific type is mentioned.\n",
        "Within the except block, you can define the actions to be taken when an exception occurs, such as:\n",
        "Printing informative error messages to the user.\n",
        "Logging the error for debugging purposes.\n",
        "Attempting to recover from the error and continue program execution.\n",
        "Performing alternative actions or providing default values.\n",
        "In essence:\n",
        "The try block attempts to run code that might fail, and the except block provides a safety net to gracefully manage those failures, preventing program termination and allowing for a more controlled response to errors. This mechanism significantly enhances the reliability and user-friendliness of applications by making them resilient to unexpected issues."
      ],
      "metadata": {
        "id": "xws6FERAJiWH"
      }
    },
    {
      "cell_type": "markdown",
      "source": [
        "15. How does Python's garbage collection system work?\n",
        "\n",
        "   ->Python's garbage collection system employs a hybrid approach, primarily utilizing reference counting and a generational cyclic garbage collector to manage memory and reclaim resources from objects no longer in use.\n",
        "1. Reference Counting:\n",
        "Every object in Python maintains a count of how many references point to it.\n",
        "When a new reference to an object is created (e.g., assigning it to a variable), its reference count increments.\n",
        "When a reference is deleted or goes out of scope, the count decrements.\n",
        "If an object's reference count drops to zero, it is immediately deallocated, and its memory is reclaimed.\n",
        "This method is efficient for most objects and handles the majority of memory cleanup.\n",
        "2. Generational Cyclic Garbage Collector:\n",
        "Reference counting alone cannot handle cyclic references, where objects form a closed loop of references, preventing their reference counts from ever reaching zero even if they are no longer reachable by the main program.\n",
        "To address this, Python uses a generational garbage collector, which categorizes objects into three generations (0, 1, and 2) based on their age and survival through previous collection cycles.\n",
        "Generation 0: contains newly created objects and is collected most frequently.\n",
        "Objects surviving a Generation 0 collection are promoted to Generation 1, and similarly, objects surviving Generation 1 are promoted to Generation 2.\n",
        "Generation 2: contains the oldest, most persistent objects and is collected least frequently.\n",
        "This generational approach focuses collection efforts on younger objects, which are more likely to become garbage, improving efficiency.\n",
        "During a generational collection, the garbage collector identifies and reclaims objects involved in cyclic references that are no longer reachable from the main program, effectively preventing memory leaks caused by such cycles.\n",
        "In summary: Python's garbage collection system prioritizes immediate deallocation through reference counting for most objects and employs a generational cyclic garbage collector to efficiently detect and reclaim memory from objects involved in circular references."
      ],
      "metadata": {
        "id": "I_LUlNn5Jzcp"
      }
    },
    {
      "cell_type": "markdown",
      "source": [
        "16. What is the purpose of the else block in exception handling?\n",
        "\n",
        "  ->The else block in exception handling, specifically within a try-except-else construct, serves the purpose of executing a block of code only when no exceptions are raised within the corresponding try block.\n",
        "Key characteristics and purpose:\n",
        "Conditional Execution: The else block is executed exclusively when the code within the try block completes without encountering any exceptions.\n",
        "Separation of Concerns: It allows for a clear separation between code that might raise an exception (in the try block) and code that should only run if the try block was successful. This can improve code readability and organization.\n",
        "Post-Success Actions: It is useful for performing actions that are contingent on the successful execution of the try block, such as closing resources opened within the try block, processing data that was successfully retrieved, or continuing with the normal program flow after a successful operation.\n",
        "Difference from finally: Unlike the finally block, which executes regardless of whether an exception occurred, the else block is strictly conditional on the absence of exceptions.\n",
        "Example:\n",
        "Python\n",
        "\n",
        "try:\n",
        "    file = open(\"my_file.txt\", \"r\")\n",
        "    content = file.read()\n",
        "except FileNotFoundError:\n",
        "    print(\"Error: The file was not found.\")\n",
        "else:\n",
        "    print(\"File opened and read successfully.\")\n",
        "    print(\"Content:\", content)\n",
        "    file.close() # Close the file only if it was successfully opened\n",
        "In this example, the else block containing the print statement and file.close() will only execute if open() and read() operations in the try block complete without raising a FileNotFoundError or any other exception."
      ],
      "metadata": {
        "id": "6YR-Qew5KDcM"
      }
    },
    {
      "cell_type": "markdown",
      "source": [
        "17. What are the common logging levels in Python?\n",
        "\n",
        "  ->Python's logging module defines several standard logging levels, each representing a different severity of an event. These levels are typically used to categorize log messages and control which messages are displayed or stored. The common logging levels, in increasing order of severity, are:\n",
        "DEBUG (10): Provides detailed information, typically useful only when diagnosing problems. This level is usually enabled during development or for in-depth troubleshooting.\n",
        "INFO (20): Confirms that things are working as expected. These messages provide general information about the application's flow and significant events.\n",
        "WARNING (30): Indicates that something unexpected happened or might happen soon. This level signals potential issues that are not immediately harmful but may require attention.\n",
        "ERROR (40): Denotes a more serious problem that has prevented the software from performing some functions. These errors typically require immediate attention.\n",
        "CRITICAL (50): Represents a severe error indicating that the program itself may be unable to continue running or that a catastrophic failure has occurred. These messages often trigger alerts and require urgent investigation."
      ],
      "metadata": {
        "id": "YO0s917iKQFu"
      }
    },
    {
      "cell_type": "markdown",
      "source": [
        "18.  What is the difference between os.fork() and multiprocessing in Python?\n",
        "  \n",
        "  \n",
        "  ->The core difference between os.fork() and Python's multiprocessing module lies in their level of abstraction and portability.\n",
        "os.fork():\n",
        "Low-level System Call: os.fork() is a direct wrapper around the Unix fork() system call. It creates a new child process that is an almost exact duplicate of the parent process at the moment of the call.\n",
        "Not Portable: It is only available on Unix-like operating systems (Linux, macOS, etc.) and is not supported on Windows.\n",
        "Manual Management: You are responsible for managing the child process, including handling its return value (PID), waiting for its completion, and inter-process communication (IPC) if needed.\n",
        "Copies Everything: When os.fork() is called, the child process inherits a copy of the parent's memory space, including open file descriptors, network connections, and other resources. This can lead to issues if not handled carefully, especially with shared resources like database connections.\n",
        "multiprocessing Module:\n",
        "High-level Abstraction: The multiprocessing module provides a higher-level, more user-friendly interface for creating and managing processes in Python. It abstracts away the complexities of os.fork() and other low-level system calls.\n",
        "Portable: It offers different \"start methods\" for creating processes, including fork (default on Unix-like systems), spawn, and forkserver, making it portable across different operating systems, including Windows.\n",
        "Managed Processes: It provides tools for managing processes, such as Process objects, Pool for worker pools, and various IPC mechanisms like Queue and Pipe.\n",
        "Controlled Resource Handling: When using spawn or forkserver start methods, the child process starts with a clean slate, avoiding the duplication of resources that occurs with fork(). This is particularly useful for avoiding issues with shared resources.\n",
        "In summary:\n",
        "Choose multiprocessing for most use cases where you need to create and manage multiple processes in a portable and convenient manner.\n",
        "Use os.fork() only when you require direct control over the forking mechanism on Unix-like systems and are prepared to handle the lower-level complexities and potential resource management challenges."
      ],
      "metadata": {
        "id": "WgK5tYoKKgHg"
      }
    },
    {
      "cell_type": "markdown",
      "source": [
        "19. What is the importance of closing a file in Python?\n",
        "\n",
        "  ->Closing a file in Python is crucial for several reasons, primarily related to resource management and data integrity:\n",
        "Resource Release: When a file is opened, the operating system allocates resources to manage it. Failing to close a file means these resources are not released, leading to potential resource leaks, especially in long-running applications or those handling many files. This can exhaust the available file handles, preventing the program from opening new files or even causing system-wide issues.\n",
        "Data Integrity: When writing data to a file, Python often uses internal buffers to optimize performance. Data might not be immediately written to the disk but held in these buffers. Closing the file explicitly flushes these buffers, ensuring that all written data is committed to the storage medium, thus preventing data loss or corruption in case of program termination or system crashes.\n",
        "File Locking and Access: In some operating systems or scenarios, an open file might be locked, preventing other processes or users from accessing or modifying it. Closing the file releases these locks, allowing other applications or users to interact with the file.\n",
        "Best Practice and Code Robustness: Explicitly closing files is considered a good programming practice. It makes the code more predictable and robust, reducing the likelihood of unexpected behavior or errors related to file handling. The with statement in Python is highly recommended for file handling as it automatically ensures files are closed, even if exceptions occur.\n",
        "In summary, closing files ensures proper resource management, guarantees data integrity, facilitates concurrent file access, and contributes to writing robust and reliable Python applications."
      ],
      "metadata": {
        "id": "tgLBkcgmKsd5"
      }
    },
    {
      "cell_type": "markdown",
      "source": [
        "20. What is the difference between file.read() and file.readline() in Python?\n",
        "    \n",
        "    ->In Python, file.read() and file.readline() are methods used to read data from a file, but they differ in the amount of data they retrieve:\n",
        "file.read(): This method reads the entire content of the file and returns it as a single string. It can optionally take an integer argument, size, to specify the number of bytes (characters) to read from the file. If size is omitted, the entire file content is read.\n",
        "Python\n",
        "\n",
        "    with open(\"example.txt\", \"r\") as file:\n",
        "        content = file.read()  # Reads the entire file\n",
        "        print(content)\n",
        "file.readline(): This method reads a single line from the file and returns it as a string. It stops reading when it encounters a newline character (\\n) or reaches the end of the file. If the end of the file is reached and no characters are read, it returns an empty string.\n",
        "Python\n",
        "\n",
        "    with open(\"example.txt\", \"r\") as file:\n",
        "        line1 = file.readline()  # Reads the first line\n",
        "        line2 = file.readline()  # Reads the second line\n",
        "        print(line1)\n",
        "        print(line2)\n",
        "Key Differences Summarized:\n",
        "Scope: read() reads the entire file (or a specified number of characters), while readline() reads a single line.\n",
        "Return Type: Both return a string.\n",
        "Memory Usage: read() can load the entire file into memory, which might be inefficient for very large files. readline() reads line by line, making it suitable for processing large files without consuming excessive memory."
      ],
      "metadata": {
        "id": "Z8JqzyV_K4x0"
      }
    },
    {
      "cell_type": "markdown",
      "source": [
        "21. What is the logging module in Python used for?\n",
        "\n",
        "    ->The logging module in Python is a built-in standard library module used for recording events that occur during the execution of a program. It provides a flexible and robust framework for emitting log messages from Python applications, offering a more structured and manageable alternative to simple print() statements for debugging and monitoring.\n",
        "Key uses and features of the logging module include:\n",
        "Tracking Program Events: It allows developers to record information about various events, such as errors, warnings, informational messages, and debugging details, as a program runs.\n",
        "Debugging and Troubleshooting: Logging is crucial for identifying and diagnosing issues in complex applications. By examining log messages, developers can trace the flow of execution, understand the state of variables, and pinpoint the source of errors.\n",
        "Monitoring Application Health: In production environments, logs provide valuable insights into the performance and behavior of an application, helping to monitor its health and identify potential problems before they become critical.\n",
        "Structured Log Management: Unlike print() statements, the logging module offers a structured approach to capturing and managing log data. It allows for:\n",
        "Log Levels: Defining different severity levels for messages (e.g., DEBUG, INFO, WARNING, ERROR, CRITICAL) to filter and prioritize information.\n",
        "Loggers: Creating named loggers to manage different parts of an application's logging independently.\n",
        "Handlers: Directing log messages to various destinations, such as the console, files, network sockets, or emails.\n",
        "Formatters: Customizing the format of log messages for better readability and analysis.\n",
        "Flexibility and Configuration: The module is highly configurable, allowing developers to tailor logging behavior to specific needs, including setting log levels, configuring output destinations, and defining custom log message formats.\n"
      ],
      "metadata": {
        "id": "GlIE-QmyLLcu"
      }
    },
    {
      "cell_type": "markdown",
      "source": [
        "22. What is the os module in Python used for in file handling?\n",
        "\n",
        "    ->The os module in Python provides a way to interact with the operating system, offering a range of functions for file and directory manipulation, among other system-level tasks. In the context of file handling, the os module enables operations that go beyond simply reading and writing file content, allowing for direct interaction with the file system itself.\n",
        "Key functionalities of the os module in file handling include:\n",
        "Directory Management:\n",
        "os.getcwd(): Returns the current working directory.\n",
        "os.chdir(path): Changes the current working directory to the specified path.\n",
        "os.mkdir(path): Creates a new directory at the specified path.\n",
        "os.makedirs(path): Creates directories recursively, including any necessary parent directories.\n",
        "os.rmdir(path): Removes an empty directory at the specified path.\n",
        "os.removedirs(path): Removes directories recursively, provided they are empty.\n",
        "os.listdir(path): Returns a list of all files and directories within the specified path.\n",
        "File Operations:\n",
        "os.remove(path): Deletes a file at the specified path.\n",
        "os.rename(old_path, new_path): Renames a file or directory from old_path to new_path.\n",
        "os.stat(path): Returns detailed information about a file or directory, such as size, permissions, and timestamps.\n",
        "os.chmod(path, mode): Changes the permissions of a file or directory.\n",
        "os.chown(path, uid, gid): Changes the owner and group ID of a file or directory (primarily on Unix-like systems).\n",
        "Path Manipulation (often used with os.path submodule):\n",
        "os.path.join(path1, path2, ...): Joins path components intelligently, handling platform-specific separators.\n",
        "os.path.exists(path): Checks if a file or directory exists at the specified path.\n",
        "os.path.isfile(path): Checks if the path points to a regular file.\n",
        "os.path.isdir(path): Checks if the path points to a directory.\n",
        "os.path.split(path): Splits the path into a head and a tail (directory and filename).\n",
        "The os module provides a platform-independent interface, meaning the same code can be used across different operating systems (Windows, macOS, Linux) to perform these file system operations."
      ],
      "metadata": {
        "id": "n_kMbAMtLYRS"
      }
    },
    {
      "cell_type": "markdown",
      "source": [
        "23. What are the challenges associated with memory management in Python?\n",
        "\n",
        "     ->Python's automatic memory management simplifies development but introduces specific challenges:\n",
        "Limited Manual Control: Python's memory management is largely automatic, relying on reference counting and a generational garbage collector. This abstraction, while convenient, means developers have less direct control over memory allocation and deallocation compared to languages like C or C++. This can make fine-tuning memory usage for highly optimized applications more difficult.\n",
        "Memory Leaks (Cyclic References): While Python's garbage collector effectively handles most unused objects, it struggles with cyclic references. If objects form a cycle where they refer to each other, their reference counts may never drop to zero, preventing the garbage collector from reclaiming their memory. This can lead to memory leaks, especially in complex data structures.\n",
        "Memory Fragmentation: Frequent allocation and deallocation of objects of varying sizes can lead to memory fragmentation. This occurs when free memory is scattered in small, non-contiguous blocks, making it challenging to allocate larger contiguous blocks, even if sufficient total free memory exists.\n",
        "Performance Overhead of Garbage Collection: While automatic garbage collection is beneficial, the process itself consumes CPU cycles and can introduce pauses in program execution, impacting performance, especially in real-time or high-throughput applications.\n",
        "Understanding and Debugging Memory Usage: The opaque nature of automatic memory management can make it challenging to understand how memory is being used by an application and to identify and debug memory-related issues like high memory consumption or unexpected growth. Tools are often required to gain insight into memory profiles.\n",
        "Impact of Immutable Objects: Python's immutable data types, such as strings and tuples, can lead to increased memory usage in certain scenarios. For example, repeated string concatenation creates new string objects in memory for each operation, which can be inefficient for large or frequent manipulations.\n",
        "Resource Management Beyond Memory: Python's garbage collector primarily manages memory. However, applications often utilize other resources like file handles, network connections, or database connections. These resources require explicit management and release, as the garbage collector will not automatically handle them, and failure to do so can lead to resource leaks."
      ],
      "metadata": {
        "id": "zj11--ezLnay"
      }
    },
    {
      "cell_type": "markdown",
      "source": [
        "24. How do you raise an exception manually in Python?\n",
        "\n",
        "     ->To raise an exception manually in Python, you utilize the raise keyword. This allows you to explicitly trigger an error condition at a specific point in your code.\n",
        "Here's how to do it:\n",
        "1. Raising a Built-in Exception:\n",
        "You can raise any of Python's built-in exception types, such as ValueError, TypeError, ZeroDivisionError, etc. You instantiate the exception class and pass an optional message as an argument.\n",
        "Python\n",
        "\n",
        "def validate_age(age):\n",
        "    if not isinstance(age, int):\n",
        "        raise TypeError(\"Age must be an integer.\")\n",
        "    if age < 0 or age > 120:\n",
        "        raise ValueError(\"Age must be between 0 and 120.\")\n",
        "    print(f\"Age {age} is valid.\")\n",
        "\n",
        "try:\n",
        "    validate_age(\"twenty\")\n",
        "except TypeError as e:\n",
        "    print(f\"Error: {e}\")\n",
        "\n",
        "try:\n",
        "    validate_age(150)\n",
        "except ValueError as e:\n",
        "    print(f\"Error: {e}\")\n",
        "2. Raising a Custom Exception:\n",
        "For more specific error handling, you can define your own custom exception classes by inheriting from the built-in Exception class (or a more specific built-in exception if appropriate).\n",
        "Python\n",
        "\n",
        "class InsufficientFundsError(Exception):\n",
        "    \"\"\"Custom exception for insufficient funds in an account.\"\"\"\n",
        "    pass\n",
        "\n",
        "def withdraw_money(balance, amount):\n",
        "    if amount > balance:\n",
        "        raise InsufficientFundsError(\"Cannot withdraw, insufficient funds.\")\n",
        "    return balance - amount\n",
        "\n",
        "try:\n",
        "    current_balance = 100\n",
        "    new_balance = withdraw_money(current_balance, 150)\n",
        "    print(f\"New balance: {new_balance}\")\n",
        "except InsufficientFundsError as e:\n",
        "    print(f\"Withdrawal Error: {e}\")\n",
        "3. Reraising an Active Exception (within an except block):\n",
        "If you catch an exception in an except block and want to re-raise it to be handled further up the call stack, you can use raise without any arguments. This preserves the original exception's traceback.\n",
        "Python\n",
        "\n",
        "def process_data(data):\n",
        "    try:\n",
        "        result = 10 / data\n",
        "    except ZeroDivisionError:\n",
        "        print(\"Caught ZeroDivisionError, re-raising...\")\n",
        "        raise # Reraises the caught ZeroDivisionError\n",
        "\n",
        "try:\n",
        "    process_data(0)\n",
        "except ZeroDivisionError as e:\n",
        "    print(f\"Handled re-raised error: {e}\")"
      ],
      "metadata": {
        "id": "RI5hx9LBL3DF"
      }
    },
    {
      "cell_type": "markdown",
      "source": [
        "25. Why is it important to use multithreading in certain applications?\n",
        "\n",
        "     ->Multithreading is crucial for applications needing responsiveness, performance, and scalability by allowing them to perform multiple tasks concurrently, such as a web server handling numerous requests or a desktop application responding to user input while performing background operations. It enhances CPU utilization by leveraging multiple cores and improves resource efficiency by enabling threads within a single process to share memory, reducing overhead compared to using separate processes.\n",
        "Benefits of Multithreading\n",
        "Improved Responsiveness: Multithreaded applications can remain interactive while performing long-running or blocking operations, preventing the application from freezing or becoming laggy. For instance, a web browser can load a video in one thread while allowing the user to interact with other parts of the page in another.\n",
        "Enhanced Performance and Efficiency: By dividing tasks into smaller, concurrent units, multithreading allows applications to utilize multiple CPU cores simultaneously, leading to faster execution and improved overall performance.\n",
        "Better Resource Utilization: Threads within the same process share the same memory space, which reduces memory overhead and makes resource sharing more efficient compared to creating multiple independent processes.\n",
        "Increased Scalability: Multithreading allows applications to scale more effectively to handle increasing workloads by taking better advantage of available hardware resources.\n",
        "Parallelism: It enables true parallel computing by distributing tasks across different threads, which can run concurrently on multiple processors or cores.\n",
        "Applications That Benefit\n",
        "Web Servers: To handle thousands of client requests simultaneously, with each request managed by a separate thread.\n",
        "Graphical User Interfaces (GUIs): For background tasks like saving files or loading content without interrupting the user interface.\n",
        "Real-time Applications: To process requests and data with minimal delay, ensuring smooth and uninterrupted performance.\n",
        "Online Stores and Gaming: To allow multiple users to interact with the application concurrently without waiting their turn, like browsing products or playing a multiplayer game."
      ],
      "metadata": {
        "id": "lA8BQfP1MELY"
      }
    },
    {
      "cell_type": "markdown",
      "source": [
        "**Practical Questions**"
      ],
      "metadata": {
        "id": "5orIHZIDMZQa"
      }
    },
    {
      "cell_type": "code",
      "source": [
        "#1. How can you open a file for writing in Python and write a string to it\n",
        "# Using a 'with' statement for automatic file closing\n",
        "file_name = \"my_output.txt\"\n",
        "content_to_write = \"This is a string that will be written to the file.\"\n",
        "\n",
        "try:\n",
        "    with open(file_name, \"w\") as file_object:\n",
        "        file_object.write(content_to_write)\n",
        "    print(f\"Successfully wrote to '{file_name}'\")\n",
        "except IOError as e:\n",
        "    print(f\"Error writing to file: {e}\")\n",
        "\n",
        "# Example of writing multiple lines\n",
        "another_file_name = \"multi_line_output.txt\"\n",
        "lines_to_write = [\n",
        "    \"First line of text.\\n\",\n",
        "    \"Second line of text.\\n\",\n",
        "    \"Third line of text.\"\n",
        "]\n",
        "\n",
        "try:\n",
        "    with open(another_file_name, \"w\") as file_object:\n",
        "        file_object.writelines(lines_to_write)\n",
        "    print(f\"Successfully wrote multiple lines to '{another_file_name}'\")\n",
        "except IOError as e:\n",
        "    print(f\"Error writing to file: {e}\")"
      ],
      "metadata": {
        "colab": {
          "base_uri": "https://localhost:8080/"
        },
        "id": "zr7TRtliMiJy",
        "outputId": "d8281aee-73ef-4c9a-9cf5-2039d1add942"
      },
      "execution_count": 1,
      "outputs": [
        {
          "output_type": "stream",
          "name": "stdout",
          "text": [
            "Successfully wrote to 'my_output.txt'\n",
            "Successfully wrote multiple lines to 'multi_line_output.txt'\n"
          ]
        }
      ]
    },
    {
      "cell_type": "code",
      "source": [
        "#2. Write a Python program to read the contents of a file and print each line\n",
        "def read_and_print_file(filename):\n",
        "    \"\"\"\n",
        "    Reads the contents of a specified file and prints each line.\n",
        "\n",
        "    Args:\n",
        "        filename (str): The path to the file to be read.\n",
        "    \"\"\"\n",
        "    try:\n",
        "        with open(filename, 'r') as file:\n",
        "            print(f\"--- Contents of '{filename}' ---\")\n",
        "            for line in file:\n",
        "                print(line.strip())  # .strip() removes leading/trailing whitespace, including newline characters\n",
        "            print(f\"--- End of '{filename}' ---\")\n",
        "    except FileNotFoundError:\n",
        "        print(f\"Error: The file '{filename}' was not found.\")\n",
        "    except Exception as e:\n",
        "        print(f\"An unexpected error occurred: {e}\")\n",
        "\n",
        "# Example usage:\n",
        "if __name__ == \"__main__\":\n",
        "    # Create a dummy file for demonstration\n",
        "    with open(\"sample.txt\", \"w\") as f:\n",
        "        f.write(\"This is the first line.\\n\")\n",
        "        f.write(\"This is the second line.\\n\")\n",
        "        f.write(\"And this is the third line.\")\n",
        "\n",
        "    read_and_print_file(\"sample.txt\")\n",
        "    read_and_print_file(\"non_existent_file.txt\") # This will demonstrate the FileNotFoundError"
      ],
      "metadata": {
        "colab": {
          "base_uri": "https://localhost:8080/"
        },
        "id": "DVH8vBCZNMxl",
        "outputId": "b6042662-f43f-4f49-9c1e-4cbf67fb7448"
      },
      "execution_count": 2,
      "outputs": [
        {
          "output_type": "stream",
          "name": "stdout",
          "text": [
            "--- Contents of 'sample.txt' ---\n",
            "This is the first line.\n",
            "This is the second line.\n",
            "And this is the third line.\n",
            "--- End of 'sample.txt' ---\n",
            "Error: The file 'non_existent_file.txt' was not found.\n"
          ]
        }
      ]
    },
    {
      "cell_type": "code",
      "source": [
        "# 3. How would you handle a case where the file doesn't exist while trying to open it for reading?\n",
        "def read_file_safely(filename):\n",
        "    try:\n",
        "        with open(filename, 'r') as f:\n",
        "            contents = f.read()\n",
        "            print(\"File contents:\")\n",
        "            print(contents)\n",
        "    except FileNotFoundError:\n",
        "        print(f\"Error: The file '{filename}' was not found.\")\n",
        "\n",
        "# Example usage\n",
        "read_file_safely(\"my_file.txt\") # This will print the error message if my_file.txt doesn't exist"
      ],
      "metadata": {
        "colab": {
          "base_uri": "https://localhost:8080/"
        },
        "id": "myV1pQxANYD0",
        "outputId": "84ca096f-01e2-4aed-edff-22057e70064c"
      },
      "execution_count": 3,
      "outputs": [
        {
          "output_type": "stream",
          "name": "stdout",
          "text": [
            "Error: The file 'my_file.txt' was not found.\n"
          ]
        }
      ]
    },
    {
      "cell_type": "code",
      "source": [
        "# 4. Write a Python script that reads from one file and writes its content to another fileF\n",
        "def copy_file_content(source_file_path, destination_file_path):\n",
        "    \"\"\"\n",
        "    Reads the content from a source file and writes it to a destination file.\n",
        "\n",
        "    Args:\n",
        "        source_file_path (str): The path to the file to read from.\n",
        "        destination_file_path (str): The path to the file to write to.\n",
        "    \"\"\"\n",
        "    try:\n",
        "        with open(source_file_path, 'r') as source_file:\n",
        "            content = source_file.read()\n",
        "\n",
        "        with open(destination_file_path, 'w') as destination_file:\n",
        "            destination_file.write(content)\n",
        "\n",
        "        print(f\"Content successfully copied from '{source_file_path}' to '{destination_file_path}'.\")\n",
        "\n",
        "    except FileNotFoundError:\n",
        "        print(f\"Error: One of the files was not found. Please check the paths.\")\n",
        "    except Exception as e:\n",
        "        print(f\"An error occurred: {e}\")\n",
        "\n",
        "# Example usage:\n",
        "if __name__ == \"__main__\":\n",
        "    # Create a dummy source file for demonstration\n",
        "    with open(\"source.txt\", \"w\") as f:\n",
        "        f.write(\"This is some text from the source file.\\n\")\n",
        "        f.write(\"It has multiple lines of content.\")\n",
        "\n",
        "    copy_file_content(\"source.txt\", \"destination.txt\")\n",
        "\n",
        "    # Verify the content of the destination file\n",
        "    try:\n",
        "        with open(\"destination.txt\", \"r\") as f:\n",
        "            print(\"\\nContent of 'destination.txt':\")\n",
        "            print(f.read())\n",
        "    except FileNotFoundError:\n",
        "        print(\"Destination file not found after copying.\")"
      ],
      "metadata": {
        "colab": {
          "base_uri": "https://localhost:8080/"
        },
        "id": "8pHJs9kROCOr",
        "outputId": "40a23adb-363a-4b50-f7b4-b97c3d201626"
      },
      "execution_count": 4,
      "outputs": [
        {
          "output_type": "stream",
          "name": "stdout",
          "text": [
            "Content successfully copied from 'source.txt' to 'destination.txt'.\n",
            "\n",
            "Content of 'destination.txt':\n",
            "This is some text from the source file.\n",
            "It has multiple lines of content.\n"
          ]
        }
      ]
    },
    {
      "cell_type": "code",
      "source": [
        "# 5. How would you catch and handle division by zero error in Python?\n",
        "try:\n",
        "    numerator = 10\n",
        "    denominator = 0\n",
        "    result = numerator / denominator\n",
        "    print(f\"The result is: {result}\")\n",
        "except ZeroDivisionError:\n",
        "    print(\"Error: Cannot divide by zero!\")\n",
        "    result = None # Or assign a default value, or log the error\n",
        "    numerator = 10\n",
        "denominator = 0\n"
      ],
      "metadata": {
        "colab": {
          "base_uri": "https://localhost:8080/"
        },
        "id": "3eOVQ36TOj3n",
        "outputId": "122b8ef5-2d4e-421f-b80b-f83a7242a853"
      },
      "execution_count": 6,
      "outputs": [
        {
          "output_type": "stream",
          "name": "stdout",
          "text": [
            "Error: Cannot divide by zero!\n"
          ]
        }
      ]
    },
    {
      "cell_type": "code",
      "source": [
        "# 6. Write a Python program that logs an error message to a log file when a division by zero exception occurs?\n",
        "import logging\n",
        "\n",
        "# Configure logging\n",
        "logging.basicConfig(\n",
        "    filename='error.log',  # Name of the log file\n",
        "    level=logging.ERROR,   # Log messages with severity ERROR and above\n",
        "    format='%(asctime)s - %(levelname)s - %(message)s' # Format of log messages\n",
        ")\n",
        "\n",
        "def safe_division(numerator, denominator):\n",
        "    \"\"\"\n",
        "    Performs division and logs an error if ZeroDivisionError occurs.\n",
        "    \"\"\"\n",
        "    try:\n",
        "        result = numerator / denominator\n",
        "        print(f\"The result of the division is: {result}\")\n",
        "        return result\n",
        "    except ZeroDivisionError:\n",
        "        error_message = f\"Attempted to divide {numerator} by zero.\"\n",
        "        logging.error(error_message)\n",
        "        print(f\"Error: {error_message}. Check 'error.log' for details.\")\n",
        "        return None\n",
        "\n",
        "# Example usage\n",
        "safe_division(10, 2)\n",
        "safe_division(5, 0)\n",
        "safe_division(20, 4)\n",
        "safe_division(7, 0)"
      ],
      "metadata": {
        "colab": {
          "base_uri": "https://localhost:8080/"
        },
        "id": "zLRteQYPO5GS",
        "outputId": "8424240e-a651-41b8-e882-fc6cb7aa1f07"
      },
      "execution_count": 7,
      "outputs": [
        {
          "output_type": "stream",
          "name": "stderr",
          "text": [
            "ERROR:root:Attempted to divide 5 by zero.\n",
            "ERROR:root:Attempted to divide 7 by zero.\n"
          ]
        },
        {
          "output_type": "stream",
          "name": "stdout",
          "text": [
            "The result of the division is: 5.0\n",
            "Error: Attempted to divide 5 by zero.. Check 'error.log' for details.\n",
            "The result of the division is: 5.0\n",
            "Error: Attempted to divide 7 by zero.. Check 'error.log' for details.\n"
          ]
        }
      ]
    },
    {
      "cell_type": "code",
      "source": [
        "# 7.How do you log information at different levels (INFO, ERROR, WARNING) in Python using the logging module?\n",
        "import logging\n",
        "logging.basicConfig(level=logging.INFO, format='%(asctime)s - %(levelname)s - %(message)s')\n",
        "logging.debug(\"This is a debug message.\")  # Will not be shown with level=INFO\n",
        "logging.info(\"This is an informational message.\")\n",
        "logging.warning(\"This is a warning message.\")\n",
        "logging.error(\"This is an error message.\")\n",
        "logging.critical(\"This is a critical error message.\")"
      ],
      "metadata": {
        "colab": {
          "base_uri": "https://localhost:8080/"
        },
        "id": "argaNrdHPGts",
        "outputId": "cf82f8c9-7be8-4a74-a3a7-c591013e75cb"
      },
      "execution_count": 10,
      "outputs": [
        {
          "output_type": "stream",
          "name": "stderr",
          "text": [
            "WARNING:root:This is a warning message.\n",
            "ERROR:root:This is an error message.\n",
            "CRITICAL:root:This is a critical error message.\n"
          ]
        }
      ]
    },
    {
      "cell_type": "code",
      "source": [
        "# 8.Write a program to handle a file opening error using exception handling\n",
        "def safe_file_read(filename):\n",
        "    \"\"\"\n",
        "    Attempts to open and read a file, handling FileNotFoundError.\n",
        "    Ensures the file is closed regardless of success or failure.\n",
        "    \"\"\"\n",
        "    file_object = None  # Initialize file_object to None\n",
        "    try:\n",
        "        file_object = open(filename, 'r')  # Attempt to open the file in read mode\n",
        "        content = file_object.read()\n",
        "        print(f\"File '{filename}' content:\\n{content}\")\n",
        "    except FileNotFoundError:\n",
        "        print(f\"Error: The file '{filename}' was not found.\")\n",
        "    except Exception as e:  # Catch any other potential errors during file operations\n",
        "        print(f\"An unexpected error occurred: {e}\")\n",
        "    finally:\n",
        "        if file_object:  # Check if the file_object was successfully assigned\n",
        "            file_object.close()\n",
        "            print(f\"File '{filename}' has been closed.\")\n",
        "\n",
        "# Example usage:\n",
        "print(\"--- Attempting to read an existing file ---\")\n",
        "# Create a dummy file for testing\n",
        "with open(\"test_file.txt\", \"w\") as f:\n",
        "    f.write(\"This is a test file.\\n\")\n",
        "    f.write(\"It contains some sample data.\")\n",
        "\n",
        "safe_file_read(\"test_file.txt\")\n",
        "\n",
        "print(\"\\n--- Attempting to read a non-existent file ---\")\n",
        "safe_file_read(\"non_existent_file.txt\")\n",
        "\n",
        "print(\"\\n--- Attempting to read a file with potential permission issues (conceptual) ---\")\n",
        "# This example is conceptual as actual permission errors depend on your OS and file settings.\n",
        "# For demonstration, we'll try to open a file in a protected system directory if possible,\n",
        "# or simulate another type of error if a FileNotFoundError is not the primary concern.\n",
        "# safe_file_read(\"/etc/shadow\") # This would likely cause a PermissionError on Linux\n",
        "# For a more portable example, we'll just demonstrate another non-existent file for clarity.\n",
        "safe_file_read(\"another_non_existent_file.txt\")"
      ],
      "metadata": {
        "colab": {
          "base_uri": "https://localhost:8080/"
        },
        "id": "81PKZ71OPcY_",
        "outputId": "54894835-fa63-4648-b0cf-ad08c1798aec"
      },
      "execution_count": 11,
      "outputs": [
        {
          "output_type": "stream",
          "name": "stdout",
          "text": [
            "--- Attempting to read an existing file ---\n",
            "File 'test_file.txt' content:\n",
            "This is a test file.\n",
            "It contains some sample data.\n",
            "File 'test_file.txt' has been closed.\n",
            "\n",
            "--- Attempting to read a non-existent file ---\n",
            "Error: The file 'non_existent_file.txt' was not found.\n",
            "\n",
            "--- Attempting to read a file with potential permission issues (conceptual) ---\n",
            "Error: The file 'another_non_existent_file.txt' was not found.\n"
          ]
        }
      ]
    },
    {
      "cell_type": "code",
      "metadata": {
        "colab": {
          "base_uri": "https://localhost:8080/"
        },
        "id": "3f6c1ee6",
        "outputId": "e78e4ea8-6899-4d18-d54c-15ed2c0c1927"
      },
      "source": [
        "#9.How can you read a file line by line and store its content in a list in Python?\n",
        "with open(\"your_file.txt\", \"w\") as f:\n",
        "    f.write(\"This is the first line in your file.\\n\")\n",
        "    f.write(\"This is the second line.\\n\")\n",
        "    f.write(\"The third line is here too.\")\n",
        "\n",
        "print(\"Created 'your_file.txt' for demonstration.\")"
      ],
      "execution_count": 16,
      "outputs": [
        {
          "output_type": "stream",
          "name": "stdout",
          "text": [
            "Created 'your_file.txt' for demonstration.\n"
          ]
        }
      ]
    },
    {
      "cell_type": "code",
      "source": [
        "# 10.How can you append data to an existing file in Python?\n",
        "new_log_entry = \"Server restarted at 16:30\\n\"\n",
        "\n",
        "with open('log.txt', 'a') as file:\n",
        "    file.write(new_log_entry)\n",
        "\n",
        "# If log.txt previously contained:\n",
        "# Server started at 09:00\n",
        "# The file will now contain:\n",
        "# Server started at 09:00\n",
        "# Server restarted at 16:30\n",
        "\n"
      ],
      "metadata": {
        "id": "1M2VQSEYRTU7"
      },
      "execution_count": 19,
      "outputs": []
    },
    {
      "cell_type": "code",
      "source": [
        "# 11.Write a Python program that uses a try-except block to handle an error when attempting to access a\n",
        "# dictionary key that doesn't existF\n",
        "# A sample dictionary\n",
        "student_grades = {\n",
        "    'Alice': 95,\n",
        "    'Bob': 88,\n",
        "    'Charlie': 76\n",
        "}\n",
        "\n",
        "# The key to search for\n",
        "search_name = 'David'\n",
        "\n",
        "# Try to access the key, and handle the exception if it fails\n",
        "try:\n",
        "    # This line is in the \"try\" block because it may raise a KeyError\n",
        "    grade = student_grades[search_name]\n",
        "    print(f\"The grade for {search_name} is {grade}.\")\n",
        "\n",
        "except KeyError:\n",
        "    # The \"except\" block is executed if a KeyError occurs\n",
        "    print(f\"Error: The student '{search_name}' is not found in the dictionary.\")\n",
        "\n",
        "print(\"Program continues to run.\")\n",
        "\n",
        "# Example with a valid key\n",
        "print(\"\\n--- Trying again with a valid key ---\")\n",
        "search_name = 'Alice'\n",
        "try:\n",
        "    grade = student_grades[search_name]\n",
        "    print(f\"The grade for {search_name} is {grade}.\")\n",
        "except KeyError:\n",
        "    print(f\"Error: The student '{search_name}' is not found in the dictionary.\")\n"
      ],
      "metadata": {
        "colab": {
          "base_uri": "https://localhost:8080/"
        },
        "id": "a79LczWOR1uL",
        "outputId": "110a6bef-ae11-450a-b07b-250afa1a31c6"
      },
      "execution_count": 21,
      "outputs": [
        {
          "output_type": "stream",
          "name": "stdout",
          "text": [
            "Error: The student 'David' is not found in the dictionary.\n",
            "Program continues to run.\n",
            "\n",
            "--- Trying again with a valid key ---\n",
            "The grade for Alice is 95.\n"
          ]
        }
      ]
    },
    {
      "cell_type": "code",
      "source": [
        "# 12.Write a program that demonstrates using multiple except blocks to handle different types of exceptionsF\n",
        "try:\n",
        "    # Code that might raise different exceptions\n",
        "    numerator = int(input(\"Enter the numerator: \"))\n",
        "    denominator = int(input(\"Enter the denominator: \"))\n",
        "    result = numerator / denominator\n",
        "    print(f\"\\nResult: {result}\")\n",
        "\n",
        "except ValueError:\n",
        "    # This block handles non-numeric input\n",
        "    print(\"\\nError: Invalid input. Please enter a valid integer.\")\n",
        "\n",
        "except ZeroDivisionError:\n",
        "    # This block handles division by zero\n",
        "    print(\"\\nError: Cannot divide by zero.\")\n",
        "\n",
        "except Exception as e:\n",
        "    # A generic 'except' block to catch any other unexpected errors\n",
        "    print(f\"\\nAn unexpected error occurred: {e}\")\n",
        "\n",
        "print(\"Program execution continues.\")\n"
      ],
      "metadata": {
        "colab": {
          "base_uri": "https://localhost:8080/"
        },
        "id": "yjejIkLZSBS2",
        "outputId": "9bd36a19-18f9-4447-ee28-e6ea15062cd1"
      },
      "execution_count": 23,
      "outputs": [
        {
          "output_type": "stream",
          "name": "stdout",
          "text": [
            "Enter the numerator: 1000\n",
            "Enter the denominator: 200\n",
            "\n",
            "Result: 5.0\n",
            "Program execution continues.\n"
          ]
        }
      ]
    },
    {
      "cell_type": "code",
      "source": [
        "# 13. How would you check if a file exists before attempting to read it in Python?\n",
        "from pathlib import Path\n",
        "\n",
        "file_path = Path(\"example.txt\")\n",
        "\n",
        "if file_path.is_file():\n",
        "    # File exists, proceed with reading it\n",
        "    with open(file_path, 'r') as file:\n",
        "        content = file.read()\n",
        "    print(\"File read successfully.\")\n",
        "    print(\"Content:\", content)\n",
        "else:\n",
        "    # File does not exist, handle the error\n",
        "    print(\"Error: The file 'example.txt' was not found.\")\n"
      ],
      "metadata": {
        "colab": {
          "base_uri": "https://localhost:8080/"
        },
        "id": "r6zmDmT3SMA2",
        "outputId": "9ca6280e-0b38-41a7-e925-19b0d74cf496"
      },
      "execution_count": 24,
      "outputs": [
        {
          "output_type": "stream",
          "name": "stdout",
          "text": [
            "Error: The file 'example.txt' was not found.\n"
          ]
        }
      ]
    },
    {
      "cell_type": "code",
      "source": [
        "# 14.Write a program that uses the logging module to log both informational and error messages\n",
        "import logging\n",
        "\n",
        "# Step 1: Configure the root logger\n",
        "# This basicConfig will set up a FileHandler for our app.log file.\n",
        "# It also defines a standard format for all log messages.\n",
        "logging.basicConfig(\n",
        "    level=logging.DEBUG, # Sets the threshold for the file logger to capture everything\n",
        "    format='%(asctime)s - %(name)s - %(levelname)s - %(message)s',\n",
        "    filename='app.log',\n",
        "    filemode='w' # 'w' for write mode (overwrites file on each run), 'a' for append\n",
        ")\n",
        "\n",
        "# Step 2: Create a StreamHandler for console output\n",
        "# This handler will direct log messages to the console.\n",
        "console_handler = logging.StreamHandler()\n",
        "\n",
        "# Step 3: Set the log level for the console handler\n",
        "# We only want to see INFO messages and above in the console,\n",
        "# so we set its level higher than the file handler's level.\n",
        "console_handler.setLevel(logging.INFO)\n",
        "\n",
        "# Step 4: Add the console handler to the root logger\n",
        "logging.getLogger('').addHandler(console_handler)\n",
        "\n",
        "# Get a logger instance (it will use the configuration we just set up)\n",
        "logger = logging.getLogger(__name__)\n",
        "\n",
        "# --- Program logic and logging calls ---\n",
        "def perform_division(numerator, denominator):\n",
        "    \"\"\"A function that demonstrates logging informational and error messages.\"\"\"\n",
        "    logger.info(\"Attempting to perform division.\")\n",
        "\n",
        "    try:\n",
        "        if denominator == 0:\n",
        "            # An error message that includes the full stack trace\n",
        "            # for easy debugging.\n",
        "            raise ZeroDivisionError(\"Cannot divide by zero.\")\n",
        "\n",
        "        result = numerator / denominator\n",
        "        logger.info(f\"Division successful: {numerator} / {denominator} = {result}\")\n",
        "        return result\n",
        "\n",
        "    except ZeroDivisionError:\n",
        "        # logging.exception() logs an ERROR message and automatically\n",
        "        # includes the stack trace.\n",
        "        logger.exception(\"An error occurred during division.\")\n",
        "    except Exception as e:\n",
        "        logger.error(f\"An unexpected error occurred: {e}\")\n",
        "\n",
        "# Call the function with different scenarios\n",
        "perform_division(10, 2)\n",
        "print(\"-\" * 30)\n",
        "perform_division(5, 0)\n"
      ],
      "metadata": {
        "colab": {
          "base_uri": "https://localhost:8080/"
        },
        "id": "cXql83sWSuKT",
        "outputId": "924f6f38-8a73-4775-dffe-d647df251c43"
      },
      "execution_count": 25,
      "outputs": [
        {
          "output_type": "stream",
          "name": "stderr",
          "text": [
            "ERROR:__main__:An error occurred during division.\n",
            "Traceback (most recent call last):\n",
            "  File \"/tmp/ipython-input-2832885024.py\", line 38, in perform_division\n",
            "    raise ZeroDivisionError(\"Cannot divide by zero.\")\n",
            "ZeroDivisionError: Cannot divide by zero.\n",
            "An error occurred during division.\n",
            "Traceback (most recent call last):\n",
            "  File \"/tmp/ipython-input-2832885024.py\", line 38, in perform_division\n",
            "    raise ZeroDivisionError(\"Cannot divide by zero.\")\n",
            "ZeroDivisionError: Cannot divide by zero.\n"
          ]
        },
        {
          "output_type": "stream",
          "name": "stdout",
          "text": [
            "------------------------------\n"
          ]
        }
      ]
    },
    {
      "cell_type": "code",
      "source": [
        "# 15. Write a Python program that prints the content of a file and handles the case when the file is empty\n",
        "def print_file_content(filename):\n",
        "    \"\"\"\n",
        "    Prints the content of a file and handles cases where the file\n",
        "    is not found or is empty.\n",
        "    \"\"\"\n",
        "    try:\n",
        "        # Open the file in read mode and read its content\n",
        "        with open(filename, 'r') as file:\n",
        "            content = file.read()\n",
        "\n",
        "        # Check if the content is an empty string\n",
        "        if not content:\n",
        "            print(f\"The file '{filename}' is empty.\")\n",
        "        else:\n",
        "            print(f\"--- Content of '{filename}' ---\")\n",
        "            print(content)\n",
        "            print(\"---------------------------\")\n",
        "\n",
        "    except FileNotFoundError:\n",
        "        print(f\"Error: The file '{filename}' was not found.\")\n",
        "    except Exception as e:\n",
        "        print(f\"An unexpected error occurred: {e}\")\n",
        "\n",
        "# --- Test cases ---\n",
        "# 1. A file with content\n",
        "print_file_content('example_with_content.txt')\n",
        "\n",
        "# 2. An empty file\n",
        "print(\"\\n\")\n",
        "print_file_content('empty_file.txt')\n",
        "\n",
        "# 3. A non-existent file\n",
        "print(\"\\n\")\n",
        "print_file_content('non_existent_file.txt')\n"
      ],
      "metadata": {
        "colab": {
          "base_uri": "https://localhost:8080/"
        },
        "id": "5jgwkdsfS5yE",
        "outputId": "1b760f41-4486-4c31-87e0-b68eda1db535"
      },
      "execution_count": 26,
      "outputs": [
        {
          "output_type": "stream",
          "name": "stdout",
          "text": [
            "Error: The file 'example_with_content.txt' was not found.\n",
            "\n",
            "\n",
            "Error: The file 'empty_file.txt' was not found.\n",
            "\n",
            "\n",
            "Error: The file 'non_existent_file.txt' was not found.\n"
          ]
        }
      ]
    },
    {
      "cell_type": "code",
      "source": [
        "# 16.Demonstrate how to use memory profiling to check the memory usage of a small program\n",
        "# my_program.py\n",
        "from memory_profiler import profile\n",
        "\n",
        "@profile\n",
        "def allocate_memory():\n",
        "    \"\"\"\n",
        "    This function allocates a list of numbers and their squares to demonstrate memory usage.\n",
        "    \"\"\"\n",
        "    a = [i for i in range(1000000)]  # Large list of numbers\n",
        "    b = [i*i for i in range(1000000)] # Another large list\n",
        "    return a, b\n",
        "\n",
        "if __name__ == \"__main__\":\n",
        "    list_a, list_b = allocate_memory()\n",
        "    print(\"Memory allocation complete.\")"
      ],
      "metadata": {
        "colab": {
          "base_uri": "https://localhost:8080/"
        },
        "id": "5-cPzebZTbkz",
        "outputId": "b387fcc0-9317-440d-eff4-d4948e548645"
      },
      "execution_count": 30,
      "outputs": [
        {
          "output_type": "stream",
          "name": "stdout",
          "text": [
            "ERROR: Could not find file /tmp/ipython-input-2379658002.py\n",
            "Memory allocation complete.\n"
          ]
        }
      ]
    },
    {
      "cell_type": "code",
      "source": [
        "# 17.Write a Python program to create and write a list of numbers to a file, one number per line\n",
        "def write_numbers_to_file(filename, numbers_list):\n",
        "    \"\"\"\n",
        "    Writes a list of numbers to a specified file, with each number on a new line.\n",
        "\n",
        "    Args:\n",
        "        filename (str): The name of the file to write to.\n",
        "        numbers_list (list): A list of numbers (integers or floats).\n",
        "    \"\"\"\n",
        "    try:\n",
        "        with open(filename, 'w') as file:\n",
        "            for number in numbers_list:\n",
        "                file.write(str(number) + '\\n')\n",
        "        print(f\"Numbers successfully written to '{filename}'.\")\n",
        "    except IOError as e:\n",
        "        print(f\"Error writing to file '{filename}': {e}\")\n",
        "\n",
        "# Example usage:\n",
        "my_numbers = [10, 25, 3.14, 42, 7.89, 100]\n",
        "output_file = \"my_numbers.txt\"\n",
        "\n",
        "write_numbers_to_file(output_file, my_numbers)\n",
        "\n",
        "# You can also create a list using range()\n",
        "range_numbers = list(range(1, 11)) # Numbers from 1 to 10\n",
        "output_file_range = \"range_numbers.txt\"\n",
        "write_numbers_to_file(output_file_range, range_numbers)"
      ],
      "metadata": {
        "colab": {
          "base_uri": "https://localhost:8080/"
        },
        "id": "1JqMbiVyT6U-",
        "outputId": "8ce7755a-33d9-44ce-ab99-d1ecea5d4f17"
      },
      "execution_count": 31,
      "outputs": [
        {
          "output_type": "stream",
          "name": "stdout",
          "text": [
            "Numbers successfully written to 'my_numbers.txt'.\n",
            "Numbers successfully written to 'range_numbers.txt'.\n"
          ]
        }
      ]
    },
    {
      "cell_type": "code",
      "source": [
        "# 18. How would you implement a basic logging setup that logs to a file with rotation after 1MB?\n",
        "import logging\n",
        "from logging.handlers import RotatingFileHandler\n",
        "\n",
        "# Define the log file name\n",
        "LOG_FILE = \"application.log\"\n",
        "\n",
        "# Define the maximum size of the log file (1MB)\n",
        "MAX_BYTES = 1024 * 1024\n",
        "\n",
        "# Define the number of backup log files to keep\n",
        "BACKUP_COUNT = 5\n",
        "\n",
        "# Create a logger instance\n",
        "logger = logging.getLogger(__name__)\n",
        "logger.setLevel(logging.INFO)  # Set the logging level\n",
        "\n",
        "# Create a RotatingFileHandler\n",
        "# This handler will rotate the log file when it reaches MAX_BYTES,\n",
        "# keeping up to BACKUP_COUNT older log files.\n",
        "handler = RotatingFileHandler(LOG_FILE, maxBytes=MAX_BYTES, backupCount=BACKUP_COUNT)\n",
        "\n",
        "# Define a formatter for the log messages\n",
        "formatter = logging.Formatter(\"%(asctime)s - %(name)s - %(levelname)s - %(message)s\")\n",
        "\n",
        "# Set the formatter for the handler\n",
        "handler.setFormatter(formatter)\n",
        "\n",
        "# Add the handler to the logger\n",
        "logger.addHandler(handler)\n",
        "\n",
        "# Example usage:\n",
        "logger.info(\"This is an informational message.\")\n",
        "logger.warning(\"This is a warning message.\")\n",
        "logger.error(\"This is an error message.\")"
      ],
      "metadata": {
        "colab": {
          "base_uri": "https://localhost:8080/"
        },
        "id": "HO9HwpQAUFFQ",
        "outputId": "91ba476f-b67e-49bf-a841-13840826852a"
      },
      "execution_count": 33,
      "outputs": [
        {
          "output_type": "stream",
          "name": "stderr",
          "text": [
            "INFO:__main__:This is an informational message.\n",
            "This is an informational message.\n",
            "WARNING:__main__:This is a warning message.\n",
            "This is a warning message.\n",
            "ERROR:__main__:This is an error message.\n",
            "This is an error message.\n"
          ]
        }
      ]
    },
    {
      "cell_type": "code",
      "source": [
        "# 19.Write a program that handles both IndexError and KeyError using a try-except block\n",
        "data_dict = {\"name\": \"Alice\", \"age\": 30}\n",
        "data_list = [10, 20, 30]\n",
        "\n",
        "def access_data(key, index):\n",
        "    try:\n",
        "        # Try to access a dictionary key and a list index\n",
        "        dict_value = data_dict[key]\n",
        "        list_value = data_list[index]\n",
        "        print(f\"Key '{key}' found: {dict_value}\")\n",
        "        print(f\"Index {index} found: {list_value}\")\n",
        "    except (KeyError, IndexError) as e:\n",
        "        # This block catches both exceptions with a single, common message\n",
        "        print(f\"Error caught: {e}. Please check your key or index.\")\n",
        "\n",
        "# --- Test cases ---\n",
        "\n",
        "# 1. A valid key and index (no exception)\n",
        "print(\"--- Test 1: Valid key and index ---\")\n",
        "access_data(\"name\", 1)\n",
        "\n",
        "# 2. A non-existent key (raises KeyError)\n",
        "print(\"\\n--- Test 2: Non-existent key ---\")\n",
        "access_data(\"city\", 1)\n",
        "\n",
        "# 3. An out-of-range index (raises IndexError)\n",
        "print(\"\\n--- Test 3: Out-of-range index ---\")\n",
        "access_data(\"name\", 5)\n"
      ],
      "metadata": {
        "colab": {
          "base_uri": "https://localhost:8080/"
        },
        "id": "YogF1TVGUPTQ",
        "outputId": "b6134a53-6020-4497-8975-d180bbd0b62d"
      },
      "execution_count": 34,
      "outputs": [
        {
          "output_type": "stream",
          "name": "stdout",
          "text": [
            "--- Test 1: Valid key and index ---\n",
            "Key 'name' found: Alice\n",
            "Index 1 found: 20\n",
            "\n",
            "--- Test 2: Non-existent key ---\n",
            "Error caught: 'city'. Please check your key or index.\n",
            "\n",
            "--- Test 3: Out-of-range index ---\n",
            "Error caught: list index out of range. Please check your key or index.\n"
          ]
        }
      ]
    },
    {
      "cell_type": "code",
      "source": [
        "# 20. How would you open a file and read its contents using a context manager in Python?\n",
        "# Create a sample file for demonstration\n",
        "with open(\"sample.txt\", \"w\") as file:\n",
        "    file.write(\"Hello, world!\\n\")\n",
        "    file.write(\"This is a context manager example.\")\n",
        "\n",
        "# Open and read the file using the 'with' statement\n",
        "try:\n",
        "    with open(\"sample.txt\", \"r\") as file:\n",
        "        contents = file.read()\n",
        "        print(\"File contents:\")\n",
        "        print(contents)\n",
        "except FileNotFoundError:\n",
        "    print(\"The specified file could not be found.\")\n",
        "\n",
        "# The file is automatically closed here, outside the 'with' block\n",
        "# You can confirm by checking the file's 'closed' attribute\n",
        "print(f\"\\nIs the file closed? {file.closed}\")\n"
      ],
      "metadata": {
        "colab": {
          "base_uri": "https://localhost:8080/"
        },
        "id": "0xb2o_kwUj7k",
        "outputId": "fa7f6a05-d539-476e-daab-603fae0e3a6e"
      },
      "execution_count": 35,
      "outputs": [
        {
          "output_type": "stream",
          "name": "stdout",
          "text": [
            "File contents:\n",
            "Hello, world!\n",
            "This is a context manager example.\n",
            "\n",
            "Is the file closed? True\n"
          ]
        }
      ]
    },
    {
      "cell_type": "code",
      "source": [
        "# 21.Write a Python program that reads a file and prints the number of occurrences of a specific word\n",
        "import string\n",
        "\n",
        "def count_word_in_file(filepath, search_word):\n",
        "    \"\"\"\n",
        "    Reads a file and counts the occurrences of a specific word.\n",
        "\n",
        "    Args:\n",
        "        filepath (str): The path to the text file.\n",
        "        search_word (str): The word to search for.\n",
        "\n",
        "    Returns:\n",
        "        int: The number of times the word was found.\n",
        "    \"\"\"\n",
        "    word_count = 0\n",
        "\n",
        "    try:\n",
        "        with open(filepath, 'r') as file:\n",
        "            # Read the entire file content into a string and convert to lowercase\n",
        "            content = file.read().lower()\n",
        "\n",
        "            # Clean the content by replacing punctuation with spaces\n",
        "            for punctuation in string.punctuation:\n",
        "                content = content.replace(punctuation, ' ')\n",
        "\n",
        "            # Split the content into a list of words\n",
        "            words = content.split()\n",
        "\n",
        "            # Count the occurrences of the search word\n",
        "            word_count = words.count(search_word.lower())\n",
        "\n",
        "        return word_count\n",
        "\n",
        "    except FileNotFoundError:\n",
        "        print(f\"Error: The file '{filepath}' was not found.\")\n",
        "        return 0\n",
        "\n",
        "# --- Demonstration ---\n",
        "\n",
        "# 1. Create a sample text file to test the program\n",
        "sample_text = \"\"\"\n",
        "This is a sample text file.\n",
        "We will count the occurrences of the word 'the'.\n",
        "The word 'the' appears multiple times.\n",
        "This is another line with the word 'this' and also 'the'.\n",
        "\"\"\"\n",
        "with open(\"sample.txt\", \"w\") as f:\n",
        "    f.write(sample_text)\n",
        "\n",
        "# 2. Call the function with the sample file and a search word\n",
        "file_to_check = \"sample.txt\"\n",
        "word_to_find = \"the\"\n",
        "\n",
        "occurrences = count_word_in_file(file_to_check, word_to_find)\n",
        "\n",
        "# 3. Print the result\n",
        "print(f\"The word '{word_to_find}' appears {occurrences} time(s) in the file '{file_to_check}'.\")\n",
        "\n",
        "# 4. Demonstrate the error handling for a non-existent file\n",
        "print(\"\\n--- Testing error handling ---\")\n",
        "count_word_in_file(\"non_existent_file.txt\", \"word\")\n"
      ],
      "metadata": {
        "colab": {
          "base_uri": "https://localhost:8080/"
        },
        "id": "CNFjGjm_Uty0",
        "outputId": "3c70f5bb-9784-4bb8-8f33-1a29126e405a"
      },
      "execution_count": 36,
      "outputs": [
        {
          "output_type": "stream",
          "name": "stdout",
          "text": [
            "The word 'the' appears 7 time(s) in the file 'sample.txt'.\n",
            "\n",
            "--- Testing error handling ---\n",
            "Error: The file 'non_existent_file.txt' was not found.\n"
          ]
        },
        {
          "output_type": "execute_result",
          "data": {
            "text/plain": [
              "0"
            ]
          },
          "metadata": {},
          "execution_count": 36
        }
      ]
    },
    {
      "cell_type": "code",
      "source": [
        "# 22.How can you check if a file is empty before attempting to read its contents?\n",
        "import os\n",
        "\n",
        "def read_file_if_not_empty(filepath):\n",
        "    \"\"\"\n",
        "    Checks if a file is empty and reads its contents if it is not.\n",
        "\n",
        "    Args:\n",
        "        filepath (str): The path to the text file.\n",
        "    \"\"\"\n",
        "    try:\n",
        "        # Check the file size; it will raise FileNotFoundError if the file doesn't exist\n",
        "        if os.path.getsize(filepath) == 0:\n",
        "            print(f\"The file '{filepath}' is empty. No content to read.\")\n",
        "        else:\n",
        "            with open(filepath, 'r') as file:\n",
        "                contents = file.read()\n",
        "                print(f\"File '{filepath}' is not empty. Contents:\")\n",
        "                print(contents)\n",
        "    except FileNotFoundError:\n",
        "        print(f\"Error: The file '{filepath}' was not found.\")\n",
        "    except OSError as e:\n",
        "        print(f\"An OS error occurred: {e}\")\n",
        "\n",
        "# --- Demonstration ---\n",
        "\n",
        "# 1. Create a non-empty file\n",
        "with open(\"non_empty.txt\", \"w\") as f:\n",
        "    f.write(\"This file has some text.\")\n",
        "\n",
        "# 2. Create an empty file\n",
        "with open(\"empty.txt\", \"w\") as f:\n",
        "    pass\n",
        "\n",
        "# 3. Test with a non-empty file\n",
        "print(\"--- Testing with a non-empty file ---\")\n",
        "read_file_if_not_empty(\"non_empty.txt\")\n",
        "\n",
        "# 4. Test with an empty file\n",
        "print(\"\\n--- Testing with an empty file ---\")\n",
        "read_file_if_not_empty(\"empty.txt\")\n",
        "\n",
        "# 5. Test with a non-existent file to demonstrate error handling\n",
        "print(\"\\n--- Testing with a non-existent file ---\")\n",
        "read_file_if_not_empty(\"does_not_exist.txt\")\n"
      ],
      "metadata": {
        "colab": {
          "base_uri": "https://localhost:8080/"
        },
        "id": "JjZVQvnxU1gG",
        "outputId": "8fab270b-5097-4dbc-9964-60981f62c587"
      },
      "execution_count": 37,
      "outputs": [
        {
          "output_type": "stream",
          "name": "stdout",
          "text": [
            "--- Testing with a non-empty file ---\n",
            "File 'non_empty.txt' is not empty. Contents:\n",
            "This file has some text.\n",
            "\n",
            "--- Testing with an empty file ---\n",
            "The file 'empty.txt' is empty. No content to read.\n",
            "\n",
            "--- Testing with a non-existent file ---\n",
            "Error: The file 'does_not_exist.txt' was not found.\n"
          ]
        }
      ]
    },
    {
      "cell_type": "code",
      "source": [
        "# 23.Write a Python program that writes to a log file when an error occurs during file handling\n",
        "import logging\n",
        "import sys\n",
        "\n",
        "# --- 1. Configure the logging module ---\n",
        "# This sets up the logger to write to a file named 'app_errors.log'\n",
        "# The format includes timestamp, log level, and the message\n",
        "logging.basicConfig(\n",
        "    filename='app_errors.log',\n",
        "    level=logging.ERROR,  # Only messages of ERROR severity and higher will be logged\n",
        "    format='%(asctime)s - %(levelname)s - %(message)s'\n",
        ")\n",
        "\n",
        "def process_file_data(filepath):\n",
        "    \"\"\"\n",
        "    Attempts to read and process a file.\n",
        "    Logs an error if file handling fails.\n",
        "\n",
        "    Args:\n",
        "        filepath (str): The path to the file to be processed.\n",
        "    \"\"\"\n",
        "    try:\n",
        "        # Attempt to open and read the file using a context manager\n",
        "        with open(filepath, 'r') as file:\n",
        "            contents = file.read()\n",
        "            # This is where your successful file processing logic would go\n",
        "            print(f\"Successfully processed '{filepath}'.\")\n",
        "            print(\"First 50 characters:\", contents[:50])\n",
        "\n",
        "    except FileNotFoundError:\n",
        "        # Catches a specific error if the file doesn't exist\n",
        "        error_msg = f\"File not found: '{filepath}'. Please check the file path.\"\n",
        "        logging.error(error_msg, exc_info=True) # Log the error with the full traceback\n",
        "        print(f\"Error: {error_msg} Check 'app_errors.log' for details.\")\n",
        "\n",
        "    except Exception as e:\n",
        "        # Catches any other unexpected exceptions during file handling\n",
        "        error_msg = f\"An unexpected error occurred while processing '{filepath}'.\"\n",
        "        logging.exception(error_msg) # Use logging.exception() for full traceback\n",
        "        print(f\"Error: {error_msg} Check 'app_errors.log' for details.\")\n",
        "\n",
        "# --- Demonstration ---\n",
        "\n",
        "# 1. Test case: Process a valid file (no error)\n",
        "# First, create a sample file\n",
        "with open(\"test_data.txt\", \"w\") as f:\n",
        "    f.write(\"This is a sample file with some content to read.\")\n",
        "print(\"--- Test 1: Valid file ---\")\n",
        "process_file_data(\"test_data.txt\")\n",
        "\n",
        "# 2. Test case: A file that does not exist (FileNotFoundError)\n",
        "print(\"\\n--- Test 2: Non-existent file ---\")\n",
        "process_file_data(\"non_existent_file.txt\")\n",
        "\n",
        "# 3. Test case: An error during file operation (e.g., incorrect permissions)\n",
        "# Note: This test might require running with specific user permissions to trigger an OSError.\n",
        "# It is included here for demonstration of general exception handling.\n",
        "# For example, on some systems, trying to open a directory as a file might raise an OSError.\n",
        "print(\"\\n--- Test 3: General error handling (example OSError) ---\")\n",
        "process_file_data(\"./\")\n"
      ],
      "metadata": {
        "colab": {
          "base_uri": "https://localhost:8080/"
        },
        "id": "pFBFPnrBVA-Y",
        "outputId": "bae9059b-8256-471b-ba49-f6492cf8e37d"
      },
      "execution_count": 38,
      "outputs": [
        {
          "output_type": "stream",
          "name": "stderr",
          "text": [
            "ERROR:root:File not found: 'non_existent_file.txt'. Please check the file path.\n",
            "Traceback (most recent call last):\n",
            "  File \"/tmp/ipython-input-3980662147.py\", line 24, in process_file_data\n",
            "    with open(filepath, 'r') as file:\n",
            "         ^^^^^^^^^^^^^^^^^^^\n",
            "FileNotFoundError: [Errno 2] No such file or directory: 'non_existent_file.txt'\n",
            "File not found: 'non_existent_file.txt'. Please check the file path.\n",
            "Traceback (most recent call last):\n",
            "  File \"/tmp/ipython-input-3980662147.py\", line 24, in process_file_data\n",
            "    with open(filepath, 'r') as file:\n",
            "         ^^^^^^^^^^^^^^^^^^^\n",
            "FileNotFoundError: [Errno 2] No such file or directory: 'non_existent_file.txt'\n",
            "ERROR:root:An unexpected error occurred while processing './'.\n",
            "Traceback (most recent call last):\n",
            "  File \"/tmp/ipython-input-3980662147.py\", line 24, in process_file_data\n",
            "    with open(filepath, 'r') as file:\n",
            "         ^^^^^^^^^^^^^^^^^^^\n",
            "IsADirectoryError: [Errno 21] Is a directory: './'\n",
            "An unexpected error occurred while processing './'.\n",
            "Traceback (most recent call last):\n",
            "  File \"/tmp/ipython-input-3980662147.py\", line 24, in process_file_data\n",
            "    with open(filepath, 'r') as file:\n",
            "         ^^^^^^^^^^^^^^^^^^^\n",
            "IsADirectoryError: [Errno 21] Is a directory: './'\n"
          ]
        },
        {
          "output_type": "stream",
          "name": "stdout",
          "text": [
            "--- Test 1: Valid file ---\n",
            "Successfully processed 'test_data.txt'.\n",
            "First 50 characters: This is a sample file with some content to read.\n",
            "\n",
            "--- Test 2: Non-existent file ---\n",
            "Error: File not found: 'non_existent_file.txt'. Please check the file path. Check 'app_errors.log' for details.\n",
            "\n",
            "--- Test 3: General error handling (example OSError) ---\n",
            "Error: An unexpected error occurred while processing './'. Check 'app_errors.log' for details.\n"
          ]
        }
      ]
    }
  ]
}